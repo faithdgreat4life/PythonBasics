{
 "cells": [
  {
   "cell_type": "markdown",
   "metadata": {},
   "source": [
    "1. What is 5 to the power of 3?"
   ]
  },
  {
   "cell_type": "code",
   "execution_count": 1,
   "metadata": {},
   "outputs": [
    {
     "data": {
      "text/plain": [
       "125"
      ]
     },
     "execution_count": 1,
     "metadata": {},
     "output_type": "execute_result"
    }
   ],
   "source": [
    "x=5\n",
    "x**3"
   ]
  },
  {
   "cell_type": "markdown",
   "metadata": {},
   "source": [
    "**2. what is the remainder if 9 is divided by 2.** Is 9 even?"
   ]
  },
  {
   "cell_type": "code",
   "execution_count": 2,
   "metadata": {},
   "outputs": [
    {
     "name": "stdout",
     "output_type": "stream",
     "text": [
      "1\n"
     ]
    }
   ],
   "source": [
    "y = 9\n",
    "z = y%2\n",
    "print(z)"
   ]
  },
  {
   "cell_type": "code",
   "execution_count": 3,
   "metadata": {},
   "outputs": [
    {
     "name": "stdout",
     "output_type": "stream",
     "text": [
      "9 is odd\n"
     ]
    }
   ],
   "source": [
    "if z == 0: \n",
    "    print ('9 is even')\n",
    "else:\n",
    "    print ('9 is odd')"
   ]
  },
  {
   "cell_type": "markdown",
   "metadata": {},
   "source": [
    "3. Convert the string \"s = 'i am in Alberta'\" into upper case and into a list."
   ]
  },
  {
   "cell_type": "code",
   "execution_count": 4,
   "metadata": {},
   "outputs": [],
   "source": [
    "s = 'i am in Alberta'"
   ]
  },
  {
   "cell_type": "code",
   "execution_count": 5,
   "metadata": {},
   "outputs": [
    {
     "data": {
      "text/plain": [
       "'I AM IN ALBERTA'"
      ]
     },
     "execution_count": 5,
     "metadata": {},
     "output_type": "execute_result"
    }
   ],
   "source": [
    "s.upper()"
   ]
  },
  {
   "cell_type": "code",
   "execution_count": 6,
   "metadata": {},
   "outputs": [
    {
     "data": {
      "text/plain": [
       "['i', 'am', 'in', 'Alberta']"
      ]
     },
     "execution_count": 6,
     "metadata": {},
     "output_type": "execute_result"
    }
   ],
   "source": [
    "s.split()"
   ]
  },
  {
   "cell_type": "markdown",
   "metadata": {},
   "source": [
    "4. Convert the string \"s = 'My name is #Qazi!'\" *into lower case and split at # into a list. "
   ]
  },
  {
   "cell_type": "code",
   "execution_count": 7,
   "metadata": {},
   "outputs": [],
   "source": [
    "s = 'My name is #Qazi!'"
   ]
  },
  {
   "cell_type": "code",
   "execution_count": 8,
   "metadata": {},
   "outputs": [
    {
     "data": {
      "text/plain": [
       "'my name is #qazi!'"
      ]
     },
     "execution_count": 8,
     "metadata": {},
     "output_type": "execute_result"
    }
   ],
   "source": [
    "s.lower()"
   ]
  },
  {
   "cell_type": "code",
   "execution_count": 9,
   "metadata": {},
   "outputs": [
    {
     "data": {
      "text/plain": [
       "['My name is ', 'Qazi!']"
      ]
     },
     "execution_count": 9,
     "metadata": {},
     "output_type": "execute_result"
    }
   ],
   "source": [
    "s.split(\"#\")"
   ]
  },
  {
   "cell_type": "markdown",
   "metadata": {},
   "source": [
    "5. We have\n",
    "\n",
    "province = \"Alberta\"\n",
    "population = 4.1\n",
    "** print the following using format()**\n",
    "\n",
    "The total population of Alberta is 4.1 million."
   ]
  },
  {
   "cell_type": "code",
   "execution_count": 10,
   "metadata": {},
   "outputs": [],
   "source": [
    "province = \"Alberta\" \n",
    "population = 4.1 "
   ]
  },
  {
   "cell_type": "markdown",
   "metadata": {},
   "source": [
    "Steps:\n",
    "Create place holders inside the string in the print statement.\n",
    "pass in the initialized variables to the format to fill the place holders"
   ]
  },
  {
   "cell_type": "code",
   "execution_count": 11,
   "metadata": {},
   "outputs": [
    {
     "name": "stdout",
     "output_type": "stream",
     "text": [
      "The total population of Alberta is 4.1 million.\n"
     ]
    }
   ],
   "source": [
    "print(\"The total population of {} is {} million.\".format(province,population))"
   ]
  },
  {
   "cell_type": "code",
   "execution_count": 13,
   "metadata": {},
   "outputs": [
    {
     "name": "stdout",
     "output_type": "stream",
     "text": [
      "The total population of Alberta is 4.1 million.\n"
     ]
    }
   ],
   "source": [
    "print(\"The total population of {x} is {y} million.\".format(x=\"Alberta\",y=4.1))"
   ]
  },
  {
   "cell_type": "markdown",
   "metadata": {},
   "source": [
    "6. Can you grab \"Canada\" from the nested list? Use indexing.\n",
    "   a = ['Alberta',2,[3,4],[5,['Canada',7,['hello']],10,15],1,7]"
   ]
  },
  {
   "cell_type": "code",
   "execution_count": 14,
   "metadata": {},
   "outputs": [],
   "source": [
    "a = ['Alberta',2,[3,4],[5,['Canada',7,['hello']],10,15],1,7]"
   ]
  },
  {
   "cell_type": "code",
   "execution_count": 24,
   "metadata": {},
   "outputs": [
    {
     "data": {
      "text/plain": [
       "'Canada'"
      ]
     },
     "execution_count": 24,
     "metadata": {},
     "output_type": "execute_result"
    }
   ],
   "source": [
    "a[3][1][0]"
   ]
  },
  {
   "cell_type": "markdown",
   "metadata": {},
   "source": [
    "7. List name of provinces (keys) from the dictionary below.\n",
    "    d = {'BC':'Victoria','AB':'Edmonton', 'ON':'Toronto', 'QC':'Quebec City'}"
   ]
  },
  {
   "cell_type": "code",
   "execution_count": 26,
   "metadata": {},
   "outputs": [],
   "source": [
    "d = {'BC':'Victoria','AB':'Edmonton', 'ON':'Toronto', 'QC':'Quebec City'}"
   ]
  },
  {
   "cell_type": "code",
   "execution_count": 27,
   "metadata": {},
   "outputs": [
    {
     "data": {
      "text/plain": [
       "['BC', 'AB', 'ON', 'QC']"
      ]
     },
     "execution_count": 27,
     "metadata": {},
     "output_type": "execute_result"
    }
   ],
   "source": [
    "list(d.keys())"
   ]
  },
  {
   "cell_type": "markdown",
   "metadata": {},
   "source": [
    "*8. From the nested dictionary, grab the word \"Montreal\"."
   ]
  },
  {
   "cell_type": "code",
   "execution_count": 28,
   "metadata": {},
   "outputs": [],
   "source": [
    "d = {'k1':'AB','k2':[1,{'BC':['SK','ON','Vancouver',{'Calgary':[1,2,3,'Montreal']}]}]}"
   ]
  },
  {
   "cell_type": "code",
   "execution_count": 29,
   "metadata": {},
   "outputs": [
    {
     "data": {
      "text/plain": [
       "'Montreal'"
      ]
     },
     "execution_count": 29,
     "metadata": {},
     "output_type": "execute_result"
    }
   ],
   "source": [
    "d['k2'][1]['BC'][3]['Calgary'][3]"
   ]
  },
  {
   "cell_type": "markdown",
   "metadata": {},
   "source": [
    "*9. What is the main difference between a tuple and a list? "
   ]
  },
  {
   "cell_type": "code",
   "execution_count": 31,
   "metadata": {},
   "outputs": [],
   "source": [
    "#The main difference between lists and a tuples is the fact that lists are mutable whereas tuples are immutable. "
   ]
  },
  {
   "cell_type": "markdown",
   "metadata": {},
   "source": [
    "10. An element can appear multiple times in a set ? True / False"
   ]
  },
  {
   "cell_type": "code",
   "execution_count": 30,
   "metadata": {},
   "outputs": [],
   "source": [
    "#False\n",
    "#A set contains only unique elements"
   ]
  },
  {
   "cell_type": "markdown",
   "metadata": {},
   "source": [
    "**11. You got email addresses, write a function to split the website domain **\n",
    "\n",
    "    user_name@some_domain.ca    \n",
    "    \n",
    "**passing email and the function should return some_domain.com**"
   ]
  },
  {
   "cell_type": "code",
   "execution_count": 40,
   "metadata": {},
   "outputs": [],
   "source": [
    "def Get_domain(email):\n",
    "    return email.split('@')"
   ]
  },
  {
   "cell_type": "code",
   "execution_count": 44,
   "metadata": {},
   "outputs": [
    {
     "data": {
      "text/plain": [
       "'some_domain.ca'"
      ]
     },
     "execution_count": 44,
     "metadata": {},
     "output_type": "execute_result"
    }
   ],
   "source": [
    "Get_domain('user_name@some_domain.ca')"
   ]
  },
  {
   "cell_type": "code",
   "execution_count": 64,
   "metadata": {},
   "outputs": [
    {
     "name": "stdout",
     "output_type": "stream",
     "text": [
      "For 50 CAD, you pay 45.0 if not Monday\n",
      "For 51 CAD, you pay 40.8 if not Monday\n",
      "For 100 CAD, you pay 80.0 if not Monday\n",
      "For 101 CAD, you pay 60.599999999999994 if not Monday\n"
     ]
    }
   ],
   "source": [
    "#test\n",
    "test = [50, 51, 100, 101]\n",
    "for num in test:\n",
    "    print(\"For\",num,\"CAD, you pay\", you_pay(num,False),\"if not Monday\")"
   ]
  },
  {
   "cell_type": "code",
   "execution_count": 47,
   "metadata": {},
   "outputs": [],
   "source": [
    "def find_city(s):\n",
    "    return 'city' in s.lower().split()"
   ]
  },
  {
   "cell_type": "code",
   "execution_count": 48,
   "metadata": {},
   "outputs": [
    {
     "data": {
      "text/plain": [
       "True"
      ]
     },
     "execution_count": 48,
     "metadata": {},
     "output_type": "execute_result"
    }
   ],
   "source": [
    "find_city('Calgary is a city in Alberta')"
   ]
  },
  {
   "cell_type": "markdown",
   "metadata": {},
   "source": [
    "Write a function to return square of numbers from 1 to 5, use range() method *"
   ]
  },
  {
   "cell_type": "code",
   "execution_count": 50,
   "metadata": {},
   "outputs": [
    {
     "data": {
      "text/plain": [
       "[1, 4, 9, 16, 25]"
      ]
     },
     "execution_count": 50,
     "metadata": {},
     "output_type": "execute_result"
    }
   ],
   "source": [
    "def square(pram):\n",
    "    squarednum = []\n",
    "    for num in pram:\n",
    "         squarednum.append(num**2)\n",
    "    return squarednum\n",
    "\n",
    "square(range(1,6))"
   ]
  },
  {
   "cell_type": "markdown",
   "metadata": {},
   "source": [
    "**14. Write lambda expression for the function above, use map() and range()**"
   ]
  },
  {
   "cell_type": "code",
   "execution_count": 51,
   "metadata": {},
   "outputs": [
    {
     "data": {
      "text/plain": [
       "[1, 4, 9, 16, 25]"
      ]
     },
     "execution_count": 51,
     "metadata": {},
     "output_type": "execute_result"
    }
   ],
   "source": [
    "list(map(lambda number:number**2, range(1,6))) "
   ]
  },
  {
   "cell_type": "markdown",
   "metadata": {},
   "source": [
    "15. filter the words from a list that start with 'c'. Use lambda expression and filter().\n",
    "\n",
    "vegie_list = ['church''tomato','cabbage','meat','chicken','goat','camel']\n",
    "\n",
    "*Out put should be *\n",
    "['cabbage','chicken']"
   ]
  },
  {
   "cell_type": "code",
   "execution_count": 59,
   "metadata": {},
   "outputs": [],
   "source": [
    "vegie_list = ['church','tomato','cabbage','meat','chicken','goat','camel']"
   ]
  },
  {
   "cell_type": "code",
   "execution_count": 60,
   "metadata": {},
   "outputs": [
    {
     "data": {
      "text/plain": [
       "['church', 'cabbage', 'chicken', 'camel']"
      ]
     },
     "execution_count": 60,
     "metadata": {},
     "output_type": "execute_result"
    }
   ],
   "source": [
    "list(filter(lambda word: word[0]=='c',vegie_list))"
   ]
  },
  {
   "cell_type": "markdown",
   "metadata": {},
   "source": [
    "**16. You are a loyal customer and the store to offering discounts to their loyal customers:**\n",
    "* ***between 0 & 50 CAD, you get 10 % discounts,***<br>\n",
    "* ***between 51 & 100 CAD, you get 20 % discounts,***<br>\n",
    "* ***more than 100 CAD, you get 40 % discounts,*** <br>\n",
    "* ***Its Monday, and you are spending more than 50 CAD, you get a cherry on top! 10 CAD OFF***<br>\n",
    "\n",
    "**write a function to calculate how much the customer will pay for any spending.**"
   ]
  },
  {
   "cell_type": "code",
   "execution_count": 63,
   "metadata": {},
   "outputs": [],
   "source": [
    "def you_pay(spending, is_monday):    \n",
    "    if spending <51:\n",
    "        return ((spending)-(spending*0.1))\n",
    "    elif is_monday and spending >= 51:\n",
    "        new_spending = spending - 10\n",
    "    else:\n",
    "        new_spending = spending\n",
    "    if spending > 50 and spending <= 100:\n",
    "        return (new_spending-((new_spending)*0.2))\n",
    "    else:\n",
    "        return (new_spending-((new_spending)*0.4)) "
   ]
  },
  {
   "cell_type": "code",
   "execution_count": 67,
   "metadata": {},
   "outputs": [
    {
     "name": "stdout",
     "output_type": "stream",
     "text": [
      "For 50 CAD, you pay 45.0 if not Monday\n",
      "For 51 CAD, you pay 40.8 if not Monday\n",
      "For 100 CAD, you pay 80.0 if not Monday\n",
      "For 101 CAD, you pay 60.599999999999994 if not Monday\n"
     ]
    }
   ],
   "source": [
    "#test for days that are not monday\n",
    "\n",
    "test = [50, 51, 100, 101]\n",
    "for num in test:\n",
    "    print(\"For\",num,\"CAD, you pay\", you_pay(num,False),\"if not Monday\")"
   ]
  },
  {
   "cell_type": "code",
   "execution_count": 69,
   "metadata": {},
   "outputs": [
    {
     "name": "stdout",
     "output_type": "stream",
     "text": [
      "For 50 CAD, you pay 45.0 if on Monday\n",
      "For 51 CAD, you pay 32.8 if on Monday\n",
      "For 100 CAD, you pay 72.0 if on Monday\n",
      "For 101 CAD, you pay 54.6 if on Monday\n"
     ]
    }
   ],
   "source": [
    "#test for days that are monday\n",
    "\n",
    "test = [50, 51, 100, 101]\n",
    "for num in test:\n",
    "    print(\"For\",num,\"CAD, you pay\", you_pay(num,True),\"if on Monday\")"
   ]
  },
  {
   "cell_type": "markdown",
   "metadata": {},
   "source": [
    "The End!"
   ]
  },
  {
   "cell_type": "code",
   "execution_count": null,
   "metadata": {},
   "outputs": [],
   "source": []
  }
 ],
 "metadata": {
  "kernelspec": {
   "display_name": "Python 3",
   "language": "python",
   "name": "python3"
  },
  "language_info": {
   "codemirror_mode": {
    "name": "ipython",
    "version": 3
   },
   "file_extension": ".py",
   "mimetype": "text/x-python",
   "name": "python",
   "nbconvert_exporter": "python",
   "pygments_lexer": "ipython3",
   "version": "3.7.3"
  }
 },
 "nbformat": 4,
 "nbformat_minor": 2
}
